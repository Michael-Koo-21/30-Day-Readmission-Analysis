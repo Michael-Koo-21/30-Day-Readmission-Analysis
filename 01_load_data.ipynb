{
 "cells": [
  {
   "cell_type": "markdown",
   "metadata": {},
   "source": [
    "# Load and inspect the raw MIMIC-IV data.\n",
    "This notebook handles the loading and inspection of raw MIMIC-IV data files. The outputs are saved for further processing in subsequent notebooks.\n"
   ]
  },
  {
   "cell_type": "code",
   "execution_count": 2,
   "metadata": {},
   "outputs": [],
   "source": [
    "import os\n",
    "import pandas as pd"
   ]
  },
  {
   "cell_type": "code",
   "execution_count": null,
   "metadata": {},
   "outputs": [],
   "source": [
    "# Define the data directory\n",
    "data_dir = \"data\"\n",
    "\n",
    "# List all files in the data directory and its subdirectories\n",
    "for root, dirs, files in os.walk(data_dir):\n",
    "    print(f\"Directory: {root}\")\n",
    "    for file in files:\n",
    "        print(f\"  - {file}\")"
   ]
  },
  {
   "cell_type": "code",
   "execution_count": null,
   "metadata": {},
   "outputs": [],
   "source": [
    "# File paths for key tables\n",
    "file_paths = {\n",
    "    \"admissions\": f\"{data_dir}/hosp/admissions.csv.gz\",\n",
    "    \"patients\": f\"{data_dir}/hosp/patients.csv.gz\",\n",
    "    \"diagnoses\": f\"{data_dir}/hosp/diagnoses_icd.csv.gz\",\n",
    "    \"labevents\": f\"{data_dir}/hosp/labevents.csv.gz\",\n",
    "    \"procedures\": f\"{data_dir}/hosp/procedures_icd.csv.gz\",\n",
    "    \"prescriptions\": f\"{data_dir}/hosp/prescriptions.csv.gz\",\n",
    "}\n",
    "\n",
    "# Load tables into Pandas DataFrames\n",
    "admissions = pd.read_csv(file_paths[\"admissions\"])\n",
    "patients = pd.read_csv(file_paths[\"patients\"])\n",
    "diagnoses = pd.read_csv(file_paths[\"diagnoses\"])\n",
    "labevents = pd.read_csv(file_paths[\"labevents\"])\n",
    "procedures = pd.read_csv(file_paths[\"procedures\"])\n",
    "prescriptions = pd.read_csv(file_paths[\"prescriptions\"])"
   ]
  },
  {
   "cell_type": "markdown",
   "metadata": {},
   "source": [
    "## Summarize table structures and validate key columns."
   ]
  },
  {
   "cell_type": "code",
   "execution_count": null,
   "metadata": {},
   "outputs": [],
   "source": [
    "# Function to inspect DataFrame\n",
    "def inspect_data(name, df):\n",
    "    print(f\"\\n{name} Dataset:\")\n",
    "    print(f\"Shape: {df.shape}\")\n",
    "    print(\"Columns:\")\n",
    "    print(df.columns)\n",
    "    print(\"\\nSample Data:\")\n",
    "    print(df.head())\n",
    "    print(\"\\nMissing Values:\")\n",
    "    print(df.isnull().sum())\n",
    "\n",
    "# Inspect each dataset\n",
    "inspect_data(\"Admissions\", admissions)\n",
    "inspect_data(\"Patients\", patients)\n",
    "inspect_data(\"Diagnoses\", diagnoses)\n",
    "inspect_data(\"Lab Events\", labevents)\n",
    "inspect_data(\"Procedures\", procedures)\n",
    "inspect_data(\"Prescriptions\", prescriptions)"
   ]
  },
  {
   "cell_type": "markdown",
   "metadata": {},
   "source": [
    "## Save the loaded data as processed versions for further use."
   ]
  },
  {
   "cell_type": "code",
   "execution_count": null,
   "metadata": {},
   "outputs": [],
   "source": [
    "# Save loaded tables as uncompressed .csv for faster access in future steps\n",
    "output_dir = \"processed_data\"\n",
    "os.makedirs(output_dir, exist_ok=True)\n",
    "\n",
    "admissions.to_csv(f\"{output_dir}/admissions.csv\", index=False)\n",
    "patients.to_csv(f\"{output_dir}/patients.csv\", index=False)\n",
    "diagnoses.to_csv(f\"{output_dir}/diagnoses.csv\", index=False)\n",
    "labevents.to_csv(f\"{output_dir}/labevents.csv\", index=False)\n",
    "procedures.to_csv(f\"{output_dir}/procedures.csv\", index=False)\n",
    "prescriptions.to_csv(f\"{output_dir}/prescriptions.csv\", index=False)\n",
    "\n",
    "print(\"Data saved to processed_data directory.\")"
   ]
  }
 ],
 "metadata": {
  "kernelspec": {
   "display_name": "30dayenv",
   "language": "python",
   "name": "python3"
  },
  "language_info": {
   "codemirror_mode": {
    "name": "ipython",
    "version": 3
   },
   "file_extension": ".py",
   "mimetype": "text/x-python",
   "name": "python",
   "nbconvert_exporter": "python",
   "pygments_lexer": "ipython3",
   "version": "3.13.0"
  }
 },
 "nbformat": 4,
 "nbformat_minor": 2
}
