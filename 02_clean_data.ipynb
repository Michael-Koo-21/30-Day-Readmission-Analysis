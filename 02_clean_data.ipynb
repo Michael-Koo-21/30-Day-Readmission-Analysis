{
 "cells": [
  {
   "cell_type": "markdown",
   "metadata": {},
   "source": [
    "# Clean and preprocess the loaded data:\n",
    "This notebook cleans and preprocesses the loaded MIMIC-IV datasets by handling missing values, correcting data types, and filtering unnecessary records.\n"
   ]
  },
  {
   "cell_type": "code",
   "execution_count": 2,
   "metadata": {},
   "outputs": [],
   "source": [
    "import pandas as pd\n",
    "import numpy as np"
   ]
  },
  {
   "cell_type": "code",
   "execution_count": 8,
   "metadata": {},
   "outputs": [
    {
     "name": "stderr",
     "output_type": "stream",
     "text": [
      "/var/folders/8m/wbscfnnd193gts6t5td52fhw0000gn/T/ipykernel_3646/31306333.py:18: DtypeWarning: Columns (11) have mixed types. Specify dtype option on import or set low_memory=False.\n",
      "  prescriptions = pd.read_csv(file_paths[\"prescriptions\"])\n"
     ]
    }
   ],
   "source": [
    "# Define paths to processed data\n",
    "data_dir = \"processed_data\"\n",
    "file_paths = {\n",
    "    \"admissions\": f\"{data_dir}/admissions.csv\",\n",
    "    \"patients\": f\"{data_dir}/patients.csv\",\n",
    "    \"diagnoses\": f\"{data_dir}/diagnoses.csv\",\n",
    "    \"labevents\": f\"{data_dir}/labevents.csv\",\n",
    "    \"procedures\": f\"{data_dir}/procedures.csv\",\n",
    "    \"prescriptions\": f\"{data_dir}/prescriptions.csv\",\n",
    "}\n",
    "\n",
    "# Load datasets into Pandas DataFrames\n",
    "admissions = pd.read_csv(file_paths[\"admissions\"])\n",
    "patients = pd.read_csv(file_paths[\"patients\"])\n",
    "diagnoses = pd.read_csv(file_paths[\"diagnoses\"])\n",
    "labevents = pd.read_csv(file_paths[\"labevents\"])\n",
    "procedures = pd.read_csv(file_paths[\"procedures\"])\n",
    "prescriptions = pd.read_csv(file_paths[\"prescriptions\"])"
   ]
  },
  {
   "cell_type": "markdown",
   "metadata": {},
   "source": [
    "### Handle missing values"
   ]
  },
  {
   "cell_type": "code",
   "execution_count": 9,
   "metadata": {},
   "outputs": [
    {
     "name": "stdout",
     "output_type": "stream",
     "text": [
      "\n",
      "Admissions Missing Values:\n",
      "deathtime             534238\n",
      "edregtime             166788\n",
      "edouttime             166788\n",
      "discharge_location    149818\n",
      "marital_status         13619\n",
      "insurance               9355\n",
      "language                 775\n",
      "admit_provider_id          4\n",
      "admission_location         1\n",
      "dtype: int64\n",
      "\n",
      "Patients Missing Values:\n",
      "dod    326326\n",
      "dtype: int64\n",
      "\n",
      "Diagnoses Missing Values:\n",
      "Series([], dtype: int64)\n",
      "\n",
      "Lab Events Missing Values:\n",
      "comments             130357314\n",
      "order_provider_id    113933995\n",
      "flag                 112405302\n",
      "hadm_id               73768897\n",
      "ref_range_lower       31579618\n",
      "ref_range_upper       31579618\n",
      "valueuom              26555866\n",
      "valuenum              21490341\n",
      "value                 16062783\n",
      "priority               7652745\n",
      "storetime              2568511\n",
      "dtype: int64\n",
      "\n",
      "Procedures Missing Values:\n",
      "Series([], dtype: int64)\n",
      "\n",
      "Prescriptions Missing Values:\n",
      "form_rx              20267167\n",
      "doses_per_24_hrs      7903921\n",
      "gsn                   2407028\n",
      "poe_id                 184441\n",
      "poe_seq                184441\n",
      "order_provider_id       66367\n",
      "ndc                     33456\n",
      "stoptime                31436\n",
      "formulary_drug_cd       24565\n",
      "starttime               21890\n",
      "prod_strength            9398\n",
      "form_unit_disp           9389\n",
      "form_val_disp            9372\n",
      "dose_val_rx              9349\n",
      "dose_unit_rx             9348\n",
      "route                    6439\n",
      "drug                        1\n",
      "dtype: int64\n"
     ]
    }
   ],
   "source": [
    "# Function to summarize missing values\n",
    "def summarize_missing(df, name):\n",
    "    print(f\"\\n{name} Missing Values:\")\n",
    "    missing = df.isnull().sum()\n",
    "    missing = missing[missing > 0].sort_values(ascending=False)\n",
    "    print(missing)\n",
    "\n",
    "# Check for missing values in all datasets\n",
    "summarize_missing(admissions, \"Admissions\")\n",
    "summarize_missing(patients, \"Patients\")\n",
    "summarize_missing(diagnoses, \"Diagnoses\")\n",
    "summarize_missing(labevents, \"Lab Events\")\n",
    "summarize_missing(procedures, \"Procedures\")\n",
    "summarize_missing(prescriptions, \"Prescriptions\")"
   ]
  },
  {
   "cell_type": "markdown",
   "metadata": {},
   "source": [
    "### Convert data types\n"
   ]
  },
  {
   "cell_type": "code",
   "execution_count": 10,
   "metadata": {},
   "outputs": [
    {
     "name": "stdout",
     "output_type": "stream",
     "text": [
      "\n",
      "Admissions Dataset Column Data Types:\n",
      "subject_id               int64\n",
      "hadm_id                  int64\n",
      "admittime               object\n",
      "dischtime               object\n",
      "deathtime               object\n",
      "admission_type          object\n",
      "admit_provider_id       object\n",
      "admission_location      object\n",
      "discharge_location      object\n",
      "insurance               object\n",
      "language                object\n",
      "marital_status          object\n",
      "race                    object\n",
      "edregtime               object\n",
      "edouttime               object\n",
      "hospital_expire_flag     int64\n",
      "dtype: object\n",
      "\n",
      "Patients Dataset Column Data Types:\n",
      "subject_id            int64\n",
      "gender               object\n",
      "anchor_age            int64\n",
      "anchor_year           int64\n",
      "anchor_year_group    object\n",
      "dod                  object\n",
      "dtype: object\n",
      "\n",
      "Diagnoses Dataset Column Data Types:\n",
      "subject_id      int64\n",
      "hadm_id         int64\n",
      "seq_num         int64\n",
      "icd_code       object\n",
      "icd_version     int64\n",
      "dtype: object\n",
      "\n",
      "Lab Events Dataset Column Data Types:\n",
      "labevent_id            int64\n",
      "subject_id             int64\n",
      "hadm_id              float64\n",
      "specimen_id            int64\n",
      "itemid                 int64\n",
      "order_provider_id     object\n",
      "charttime             object\n",
      "storetime             object\n",
      "value                 object\n",
      "valuenum             float64\n",
      "valueuom              object\n",
      "ref_range_lower      float64\n",
      "ref_range_upper      float64\n",
      "flag                  object\n",
      "priority              object\n",
      "comments              object\n",
      "dtype: object\n",
      "\n",
      "Procedures Dataset Column Data Types:\n",
      "subject_id      int64\n",
      "hadm_id         int64\n",
      "seq_num         int64\n",
      "chartdate      object\n",
      "icd_code       object\n",
      "icd_version     int64\n",
      "dtype: object\n",
      "\n",
      "Prescriptions Dataset Column Data Types:\n",
      "subject_id             int64\n",
      "hadm_id                int64\n",
      "pharmacy_id            int64\n",
      "poe_id                object\n",
      "poe_seq              float64\n",
      "order_provider_id     object\n",
      "starttime             object\n",
      "stoptime              object\n",
      "drug_type             object\n",
      "drug                  object\n",
      "formulary_drug_cd     object\n",
      "gsn                   object\n",
      "ndc                  float64\n",
      "prod_strength         object\n",
      "form_rx               object\n",
      "dose_val_rx           object\n",
      "dose_unit_rx          object\n",
      "form_val_disp         object\n",
      "form_unit_disp        object\n",
      "doses_per_24_hrs     float64\n",
      "route                 object\n",
      "dtype: object\n"
     ]
    }
   ],
   "source": [
    "# Function to print datatypes of DataFrame columns\n",
    "def print_dtypes(name, df):\n",
    "    print(f\"\\n{name} Dataset Column Data Types:\")\n",
    "    print(df.dtypes)\n",
    "\n",
    "# Print datatypes for each dataset\n",
    "print_dtypes(\"Admissions\", admissions)\n",
    "print_dtypes(\"Patients\", patients)\n",
    "print_dtypes(\"Diagnoses\", diagnoses)\n",
    "print_dtypes(\"Lab Events\", labevents)\n",
    "print_dtypes(\"Procedures\", procedures)\n",
    "print_dtypes(\"Prescriptions\", prescriptions)"
   ]
  },
  {
   "cell_type": "code",
   "execution_count": 11,
   "metadata": {},
   "outputs": [],
   "source": [
    "# Convert date fields to datetime64\n",
    "admissions['admittime'] = pd.to_datetime(admissions['admittime'])\n",
    "admissions['dischtime'] = pd.to_datetime(admissions['dischtime'])\n",
    "admissions['deathtime'] = pd.to_datetime(admissions['deathtime'])\n",
    "admissions['edregtime'] = pd.to_datetime(admissions['edregtime'])\n",
    "admissions['edouttime'] = pd.to_datetime(admissions['edouttime'])\n",
    "\n",
    "# Convert categorical fields to category\n",
    "admissions['admission_type'] = admissions['admission_type'].astype('category')\n",
    "admissions['admit_provider_id'] = admissions['admit_provider_id'].astype('category')\n",
    "admissions['admission_location'] = admissions['admission_location'].astype('category')\n",
    "admissions['discharge_location'] = admissions['discharge_location'].astype('category')\n",
    "admissions['insurance'] = admissions['insurance'].astype('category')\n",
    "admissions['language'] = admissions['language'].astype('category')\n",
    "admissions['marital_status'] = admissions['marital_status'].astype('category')\n",
    "admissions['race'] = admissions['race'].astype('category')\n",
    "\n",
    "# Convert numerical fields to appropriate types\n",
    "admissions['subject_id'] = admissions['subject_id'].astype(int)\n",
    "admissions['hadm_id'] = admissions['hadm_id'].astype(int)\n",
    "admissions['hospital_expire_flag'] = admissions['hospital_expire_flag'].astype(int)\n",
    "\n",
    "# Convert date fields to datetime64 for patients\n",
    "patients['dod'] = pd.to_datetime(patients['dod'])\n",
    "\n",
    "# Convert categorical fields to category for patients\n",
    "patients['gender'] = patients['gender'].astype('category')\n",
    "patients['anchor_year_group'] = patients['anchor_year_group'].astype('category')\n",
    "\n",
    "# Convert numerical fields to appropriate types for patients\n",
    "patients['subject_id'] = patients['subject_id'].astype(int)\n",
    "patients['anchor_age'] = patients['anchor_age'].astype(int)\n",
    "patients['anchor_year'] = patients['anchor_year'].astype(int)\n",
    "\n",
    "# Convert date fields to datetime64 for diagnoses\n",
    "# No date fields in diagnoses\n",
    "\n",
    "# Convert categorical fields to category for diagnoses\n",
    "diagnoses['icd_code'] = diagnoses['icd_code'].astype('category')\n",
    "\n",
    "# Convert numerical fields to appropriate types for diagnoses\n",
    "diagnoses['subject_id'] = diagnoses['subject_id'].astype(int)\n",
    "diagnoses['hadm_id'] = diagnoses['hadm_id'].astype(int)\n",
    "diagnoses['seq_num'] = diagnoses['seq_num'].astype(int)\n",
    "diagnoses['icd_version'] = diagnoses['icd_version'].astype(int)\n",
    "\n",
    "# Convert date fields to datetime64 for labevents\n",
    "labevents['charttime'] = pd.to_datetime(labevents['charttime'])\n",
    "labevents['storetime'] = pd.to_datetime(labevents['storetime'])\n",
    "\n",
    "# Convert categorical fields to category for labevents\n",
    "labevents['order_provider_id'] = labevents['order_provider_id'].astype('category')\n",
    "labevents['value'] = labevents['value'].astype('category')\n",
    "labevents['valueuom'] = labevents['valueuom'].astype('category')\n",
    "labevents['flag'] = labevents['flag'].astype('category')\n",
    "labevents['priority'] = labevents['priority'].astype('category')\n",
    "labevents['comments'] = labevents['comments'].astype('category')\n",
    "\n",
    "# Convert numerical fields to appropriate types for labevents\n",
    "labevents['labevent_id'] = labevents['labevent_id'].astype(int)\n",
    "labevents['subject_id'] = labevents['subject_id'].astype(int)\n",
    "labevents['hadm_id'] = labevents['hadm_id'].astype(float)\n",
    "labevents['specimen_id'] = labevents['specimen_id'].astype(int)\n",
    "labevents['itemid'] = labevents['itemid'].astype(int)\n",
    "labevents['valuenum'] = labevents['valuenum'].astype(float)\n",
    "labevents['ref_range_lower'] = labevents['ref_range_lower'].astype(float)\n",
    "labevents['ref_range_upper'] = labevents['ref_range_upper'].astype(float)\n",
    "\n",
    "# Convert date fields to datetime64 for procedures\n",
    "procedures['chartdate'] = pd.to_datetime(procedures['chartdate'])\n",
    "\n",
    "# Convert categorical fields to category for procedures\n",
    "procedures['icd_code'] = procedures['icd_code'].astype('category')\n",
    "\n",
    "# Convert numerical fields to appropriate types for procedures\n",
    "procedures['subject_id'] = procedures['subject_id'].astype(int)\n",
    "procedures['hadm_id'] = procedures['hadm_id'].astype(int)\n",
    "procedures['seq_num'] = procedures['seq_num'].astype(int)\n",
    "procedures['icd_version'] = procedures['icd_version'].astype(int)\n",
    "\n",
    "# Convert columns to appropriate data types for prescriptions\n",
    "prescriptions[\"hadm_id\"] = prescriptions[\"hadm_id\"].astype(int)\n",
    "prescriptions[\"subject_id\"] = prescriptions[\"subject_id\"].astype(int)\n",
    "prescriptions[\"drug\"] = prescriptions[\"drug\"].astype(str)\n",
    "prescriptions[\"drug_type\"] = prescriptions[\"drug_type\"].astype(str)\n",
    "prescriptions[\"formulary_drug_cd\"] = prescriptions[\"formulary_drug_cd\"].astype(str)\n",
    "prescriptions[\"gsn\"] = prescriptions[\"gsn\"].astype(str)\n",
    "prescriptions[\"ndc\"] = prescriptions[\"ndc\"].astype(str)\n",
    "\n",
    "# Convert datetime columns for prescriptions\n",
    "prescriptions[\"starttime\"] = pd.to_datetime(prescriptions[\"starttime\"], errors=\"coerce\")\n",
    "prescriptions[\"stoptime\"] = pd.to_datetime(prescriptions[\"stoptime\"], errors=\"coerce\")"
   ]
  },
  {
   "cell_type": "markdown",
   "metadata": {},
   "source": [
    "### Apply filters\n",
    "Retain only records over 18 years old and diagnoses, lab events, procedures that are associated with the filtered admissions."
   ]
  },
  {
   "cell_type": "code",
   "execution_count": 12,
   "metadata": {},
   "outputs": [
    {
     "name": "stdout",
     "output_type": "stream",
     "text": [
      "   subject_id           admittime  age\n",
      "0    10000032 2180-05-06 22:23:00   52\n",
      "1    10000032 2180-06-26 18:27:00   52\n",
      "2    10000032 2180-08-05 23:44:00   52\n",
      "3    10000032 2180-07-23 12:35:00   52\n",
      "4    10000068 2160-03-03 23:16:00   19\n"
     ]
    }
   ],
   "source": [
    "# Merge admissions with patients to access anchor_age and anchor_year\n",
    "admissions_cleaned = admissions.merge(patients, on=\"subject_id\", how=\"inner\")\n",
    "\n",
    "# Convert admittime to datetime if not already done\n",
    "admissions_cleaned[\"admittime\"] = pd.to_datetime(admissions_cleaned[\"admittime\"])\n",
    "\n",
    "# Extract the year of admission\n",
    "admissions_cleaned[\"admittime_year\"] = admissions_cleaned[\"admittime\"].dt.year\n",
    "\n",
    "# Calculate age during the admission\n",
    "admissions_cleaned[\"age\"] = admissions_cleaned[\"anchor_age\"] + (\n",
    "    admissions_cleaned[\"admittime_year\"] - admissions_cleaned[\"anchor_year\"]\n",
    ")\n",
    "\n",
    "# Check calculated ages\n",
    "print(admissions_cleaned[[\"subject_id\", \"admittime\", \"age\"]].head())"
   ]
  },
  {
   "cell_type": "code",
   "execution_count": 13,
   "metadata": {},
   "outputs": [
    {
     "name": "stdout",
     "output_type": "stream",
     "text": [
      "Number of adult admissions: 546028\n"
     ]
    }
   ],
   "source": [
    "# Filter admissions to include only adult patients (age >= 18)\n",
    "admissions_cleaned = admissions_cleaned[admissions_cleaned[\"age\"] >= 18]\n",
    "\n",
    "# Validate filtering\n",
    "print(f\"Number of adult admissions: {len(admissions_cleaned)}\")"
   ]
  },
  {
   "cell_type": "code",
   "execution_count": 14,
   "metadata": {},
   "outputs": [],
   "source": [
    "# Filter Diagnoses: Keep only records for filtered admissions\n",
    "diagnoses_cleaned = diagnoses[diagnoses[\"hadm_id\"].isin(admissions_cleaned[\"hadm_id\"])]\n",
    "\n",
    "# Filter Lab Events: Keep only records for filtered admissions\n",
    "labevents_cleaned = labevents[labevents[\"hadm_id\"].isin(admissions_cleaned[\"hadm_id\"])]\n",
    "\n",
    "# Filter Procedures: Keep only records for filtered admissions\n",
    "procedures_cleaned = procedures[procedures[\"hadm_id\"].isin(admissions_cleaned[\"hadm_id\"])]\n",
    "\n",
    "# Filter Prescriptions: Keep only records for filtered admissions\n",
    "prescriptions_cleaned = prescriptions[prescriptions[\"hadm_id\"].isin(admissions_cleaned[\"hadm_id\"])]"
   ]
  },
  {
   "cell_type": "markdown",
   "metadata": {},
   "source": [
    "## Save the cleaned data for downstream analysis "
   ]
  },
  {
   "cell_type": "code",
   "execution_count": null,
   "metadata": {},
   "outputs": [
    {
     "name": "stdout",
     "output_type": "stream",
     "text": [
      "Cleaned data saved to processed_data directory.\n"
     ]
    }
   ],
   "source": [
    "# Save cleaned data to processed_data directory\n",
    "admissions_cleaned.to_csv(f\"{data_dir}/admissions_cleaned.csv\", index=False)\n",
    "patients.to_csv(f\"{data_dir}/patients_cleaned.csv\", index=False)\n",
    "diagnoses_cleaned.to_csv(f\"{data_dir}/diagnoses_cleaned.csv\", index=False)\n",
    "labevents_cleaned.to_csv(f\"{data_dir}/labevents_cleaned.csv\", index=False)\n",
    "procedures_cleaned.to_csv(f\"{data_dir}/procedures_cleaned.csv\", index=False)\n",
    "prescriptions_cleaned.to_csv(f\"{data_dir}/prescriptions_cleaned.csv\", index=False)\n",
    "\n",
    "print(\"Cleaned data saved to processed_data directory.\")"
   ]
  }
 ],
 "metadata": {
  "kernelspec": {
   "display_name": "30dayenv",
   "language": "python",
   "name": "python3"
  },
  "language_info": {
   "codemirror_mode": {
    "name": "ipython",
    "version": 3
   },
   "file_extension": ".py",
   "mimetype": "text/x-python",
   "name": "python",
   "nbconvert_exporter": "python",
   "pygments_lexer": "ipython3",
   "version": "3.13.0"
  }
 },
 "nbformat": 4,
 "nbformat_minor": 2
}
