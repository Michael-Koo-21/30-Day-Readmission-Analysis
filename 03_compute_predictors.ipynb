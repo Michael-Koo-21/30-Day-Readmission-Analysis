{
 "cells": [
  {
   "cell_type": "markdown",
   "metadata": {},
   "source": [
    "# Compute each of the 10 predictors for 30-Day Readmission (Y1)\n",
    "This notebook calculates the 10 predictors required for the analysis of 30-day readmissions, combining them into a single dataset for modeling.\n"
   ]
  },
  {
   "cell_type": "code",
   "execution_count": 1,
   "metadata": {},
   "outputs": [],
   "source": [
    "import pandas as pd\n",
    "import numpy as np"
   ]
  },
  {
   "cell_type": "code",
   "execution_count": 3,
   "metadata": {},
   "outputs": [
    {
     "name": "stderr",
     "output_type": "stream",
     "text": [
      "/var/folders/8m/wbscfnnd193gts6t5td52fhw0000gn/T/ipykernel_15184/991030652.py:6: DtypeWarning: Columns (5) have mixed types. Specify dtype option on import or set low_memory=False.\n",
      "  labevents_cleaned = pd.read_csv(f\"{data_dir}/labevents_cleaned.csv\")\n",
      "/var/folders/8m/wbscfnnd193gts6t5td52fhw0000gn/T/ipykernel_15184/991030652.py:8: DtypeWarning: Columns (11) have mixed types. Specify dtype option on import or set low_memory=False.\n",
      "  prescriptions_cleaned = pd.read_csv(f\"{data_dir}/prescriptions_cleaned.csv\")\n"
     ]
    }
   ],
   "source": [
    "# Paths to cleaned data\n",
    "data_dir = \"processed_data\"\n",
    "admissions_cleaned = pd.read_csv(f\"{data_dir}/admissions_cleaned.csv\")\n",
    "patients_cleaned = pd.read_csv(f\"{data_dir}/patients_cleaned.csv\")\n",
    "diagnoses_cleaned = pd.read_csv(f\"{data_dir}/diagnoses_cleaned.csv\")\n",
    "labevents_cleaned = pd.read_csv(f\"{data_dir}/labevents_cleaned.csv\")\n",
    "procedures_cleaned = pd.read_csv(f\"{data_dir}/procedures_cleaned.csv\")\n",
    "prescriptions_cleaned = pd.read_csv(f\"{data_dir}/prescriptions_cleaned.csv\")"
   ]
  },
  {
   "cell_type": "markdown",
   "metadata": {},
   "source": [
    "Set Datatypes"
   ]
  },
  {
   "cell_type": "code",
   "execution_count": 4,
   "metadata": {},
   "outputs": [],
   "source": [
    "# Convert date fields to datetime64\n",
    "admissions_cleaned['admittime'] = pd.to_datetime(admissions_cleaned['admittime'])\n",
    "admissions_cleaned['dischtime'] = pd.to_datetime(admissions_cleaned['dischtime'])\n",
    "admissions_cleaned['deathtime'] = pd.to_datetime(admissions_cleaned['deathtime'])\n",
    "admissions_cleaned['edregtime'] = pd.to_datetime(admissions_cleaned['edregtime'])\n",
    "admissions_cleaned['edouttime'] = pd.to_datetime(admissions_cleaned['edouttime'])\n",
    "\n",
    "# Convert categorical fields to category\n",
    "admissions_cleaned['admission_type'] = admissions_cleaned['admission_type'].astype('category')\n",
    "admissions_cleaned['admit_provider_id'] = admissions_cleaned['admit_provider_id'].astype('category')\n",
    "admissions_cleaned['admission_location'] = admissions_cleaned['admission_location'].astype('category')\n",
    "admissions_cleaned['discharge_location'] = admissions_cleaned['discharge_location'].astype('category')\n",
    "admissions_cleaned['insurance'] = admissions_cleaned['insurance'].astype('category')\n",
    "admissions_cleaned['language'] = admissions_cleaned['language'].astype('category')\n",
    "admissions_cleaned['marital_status'] = admissions_cleaned['marital_status'].astype('category')\n",
    "admissions_cleaned['race'] = admissions_cleaned['race'].astype('category')\n",
    "\n",
    "# Convert numerical fields to appropriate types\n",
    "admissions_cleaned['subject_id'] = admissions_cleaned['subject_id'].astype(int)\n",
    "admissions_cleaned['hadm_id'] = admissions_cleaned['hadm_id'].astype(int)\n",
    "admissions_cleaned['hospital_expire_flag'] = admissions_cleaned['hospital_expire_flag'].astype(int)\n",
    "\n",
    "# Convert date fields to datetime64 for patients\n",
    "patients_cleaned['dod'] = pd.to_datetime(patients_cleaned['dod'])\n",
    "\n",
    "# Convert categorical fields to category for patients\n",
    "patients_cleaned['gender'] = patients_cleaned['gender'].astype('category')\n",
    "patients_cleaned['anchor_year_group'] = patients_cleaned['anchor_year_group'].astype('category')\n",
    "\n",
    "# Convert numerical fields to appropriate types for patients\n",
    "patients_cleaned['subject_id'] = patients_cleaned['subject_id'].astype(int)\n",
    "patients_cleaned['anchor_age'] = patients_cleaned['anchor_age'].astype(int)\n",
    "patients_cleaned['anchor_year'] = patients_cleaned['anchor_year'].astype(int)\n",
    "\n",
    "# Convert date fields to datetime64 for diagnoses\n",
    "# No date fields in diagnoses\n",
    "\n",
    "# Convert categorical fields to category for diagnoses\n",
    "diagnoses_cleaned['icd_code'] = diagnoses_cleaned['icd_code'].astype('category')\n",
    "\n",
    "# Convert numerical fields to appropriate types for diagnoses\n",
    "diagnoses_cleaned['subject_id'] = diagnoses_cleaned['subject_id'].astype(int)\n",
    "diagnoses_cleaned['hadm_id'] = diagnoses_cleaned['hadm_id'].astype(int)\n",
    "diagnoses_cleaned['seq_num'] = diagnoses_cleaned['seq_num'].astype(int)\n",
    "diagnoses_cleaned['icd_version'] = diagnoses_cleaned['icd_version'].astype(int)\n",
    "\n",
    "# Convert date fields to datetime64 for labevents\n",
    "labevents_cleaned['charttime'] = pd.to_datetime(labevents_cleaned['charttime'])\n",
    "labevents_cleaned['storetime'] = pd.to_datetime(labevents_cleaned['storetime'])\n",
    "\n",
    "# Convert categorical fields to category for labevents\n",
    "labevents_cleaned['order_provider_id'] = labevents_cleaned['order_provider_id'].astype('category')\n",
    "labevents_cleaned['value'] = labevents_cleaned['value'].astype('category')\n",
    "labevents_cleaned['valueuom'] = labevents_cleaned['valueuom'].astype('category')\n",
    "labevents_cleaned['flag'] = labevents_cleaned['flag'].astype('category')\n",
    "labevents_cleaned['priority'] = labevents_cleaned['priority'].astype('category')\n",
    "labevents_cleaned['comments'] = labevents_cleaned['comments'].astype('category')\n",
    "\n",
    "# Convert numerical fields to appropriate types for labevents\n",
    "labevents_cleaned['labevent_id'] = labevents_cleaned['labevent_id'].astype(int)\n",
    "labevents_cleaned['subject_id'] = labevents_cleaned['subject_id'].astype(int)\n",
    "labevents_cleaned['hadm_id'] = labevents_cleaned['hadm_id'].astype(float)\n",
    "labevents_cleaned['specimen_id'] = labevents_cleaned['specimen_id'].astype(int)\n",
    "labevents_cleaned['itemid'] = labevents_cleaned['itemid'].astype(int)\n",
    "labevents_cleaned['valuenum'] = labevents_cleaned['valuenum'].astype(float)\n",
    "labevents_cleaned['ref_range_lower'] = labevents_cleaned['ref_range_lower'].astype(float)\n",
    "labevents_cleaned['ref_range_upper'] = labevents_cleaned['ref_range_upper'].astype(float)\n",
    "\n",
    "# Convert date fields to datetime64 for procedures\n",
    "procedures_cleaned['chartdate'] = pd.to_datetime(procedures_cleaned['chartdate'])\n",
    "\n",
    "# Convert categorical fields to category for procedures\n",
    "procedures_cleaned['icd_code'] = procedures_cleaned['icd_code'].astype('category')\n",
    "\n",
    "# Convert numerical fields to appropriate types for procedures\n",
    "procedures_cleaned['subject_id'] = procedures_cleaned['subject_id'].astype(int)\n",
    "procedures_cleaned['hadm_id'] = procedures_cleaned['hadm_id'].astype(int)\n",
    "procedures_cleaned['seq_num'] = procedures_cleaned['seq_num'].astype(int)\n",
    "procedures_cleaned['icd_version'] = procedures_cleaned['icd_version'].astype(int)\n",
    "\n",
    "# Convert columns to appropriate data types for prescriptions\n",
    "prescriptions_cleaned[\"hadm_id\"] = prescriptions_cleaned[\"hadm_id\"].astype(int)\n",
    "prescriptions_cleaned[\"subject_id\"] = prescriptions_cleaned[\"subject_id\"].astype(int)\n",
    "prescriptions_cleaned[\"drug\"] = prescriptions_cleaned[\"drug\"].astype(str)\n",
    "prescriptions_cleaned[\"drug_type\"] = prescriptions_cleaned[\"drug_type\"].astype(str)\n",
    "prescriptions_cleaned[\"formulary_drug_cd\"] = prescriptions_cleaned[\"formulary_drug_cd\"].astype(str)\n",
    "prescriptions_cleaned[\"gsn\"] = prescriptions_cleaned[\"gsn\"].astype(str)\n",
    "prescriptions_cleaned[\"ndc\"] = prescriptions_cleaned[\"ndc\"].astype(str)\n",
    "\n",
    "# Convert datetime columns for prescriptions\n",
    "prescriptions_cleaned[\"starttime\"] = pd.to_datetime(prescriptions_cleaned[\"starttime\"], errors=\"coerce\")\n",
    "prescriptions_cleaned[\"stoptime\"] = pd.to_datetime(prescriptions_cleaned[\"stoptime\"], errors=\"coerce\")"
   ]
  },
  {
   "cell_type": "markdown",
   "metadata": {},
   "source": [
    "### X1​: Charlson Comorbidity Index (CCI) (Categorical) — A measure of overall patient comorbidity; higher scores suggest a greater risk of complications and readmission."
   ]
  },
  {
   "cell_type": "code",
   "execution_count": 5,
   "metadata": {},
   "outputs": [],
   "source": [
    "# Complete ICD-9 and ICD-10 to Comorbidity Mappings\n",
    "icd_to_comorbidity = {\n",
    "    # Myocardial Infarction\n",
    "    \"410\": \"myocardial_infarction\",  # ICD-9\n",
    "    \"412\": \"myocardial_infarction\",  # ICD-9\n",
    "    \"I21\": \"myocardial_infarction\",  # ICD-10\n",
    "    \"I22\": \"myocardial_infarction\",  # ICD-10\n",
    "\n",
    "    # Congestive Heart Failure\n",
    "    \"428\": \"congestive_heart_failure\",  # ICD-9\n",
    "    \"I50\": \"congestive_heart_failure\",  # ICD-10\n",
    "\n",
    "    # Peripheral Vascular Disease\n",
    "    \"443.9\": \"peripheral_vascular_disease\",  # ICD-9\n",
    "    \"441\": \"peripheral_vascular_disease\",  # ICD-9\n",
    "    \"I73.9\": \"peripheral_vascular_disease\",  # ICD-10\n",
    "    \"I70\": \"peripheral_vascular_disease\",  # ICD-10\n",
    "\n",
    "    # Cerebrovascular Disease\n",
    "    \"430\": \"cerebrovascular_disease\",  # ICD-9\n",
    "    \"431\": \"cerebrovascular_disease\",  # ICD-9\n",
    "    \"432\": \"cerebrovascular_disease\",  # ICD-9\n",
    "    \"433\": \"cerebrovascular_disease\",  # ICD-9\n",
    "    \"434\": \"cerebrovascular_disease\",  # ICD-9\n",
    "    \"435\": \"cerebrovascular_disease\",  # ICD-9\n",
    "    \"I60\": \"cerebrovascular_disease\",  # ICD-10\n",
    "    \"I61\": \"cerebrovascular_disease\",  # ICD-10\n",
    "    \"I62\": \"cerebrovascular_disease\",  # ICD-10\n",
    "    \"I63\": \"cerebrovascular_disease\",  # ICD-10\n",
    "    \"I64\": \"cerebrovascular_disease\",  # ICD-10\n",
    "\n",
    "    # Dementia\n",
    "    \"290\": \"dementia\",  # ICD-9\n",
    "    \"F00\": \"dementia\",  # ICD-10\n",
    "    \"F01\": \"dementia\",  # ICD-10\n",
    "    \"F03\": \"dementia\",  # ICD-10\n",
    "    \"G30\": \"dementia\",  # ICD-10\n",
    "\n",
    "    # Chronic Pulmonary Disease\n",
    "    \"490\": \"chronic_pulmonary_disease\",  # ICD-9\n",
    "    \"491\": \"chronic_pulmonary_disease\",  # ICD-9\n",
    "    \"492\": \"chronic_pulmonary_disease\",  # ICD-9\n",
    "    \"493\": \"chronic_pulmonary_disease\",  # ICD-9\n",
    "    \"494\": \"chronic_pulmonary_disease\",  # ICD-9\n",
    "    \"495\": \"chronic_pulmonary_disease\",  # ICD-9\n",
    "    \"496\": \"chronic_pulmonary_disease\",  # ICD-9\n",
    "    \"J40\": \"chronic_pulmonary_disease\",  # ICD-10\n",
    "    \"J41\": \"chronic_pulmonary_disease\",  # ICD-10\n",
    "    \"J42\": \"chronic_pulmonary_disease\",  # ICD-10\n",
    "    \"J43\": \"chronic_pulmonary_disease\",  # ICD-10\n",
    "    \"J44\": \"chronic_pulmonary_disease\",  # ICD-10\n",
    "\n",
    "    # Rheumatic Disease\n",
    "    \"710\": \"rheumatic_disease\",  # ICD-9\n",
    "    \"714\": \"rheumatic_disease\",  # ICD-9\n",
    "    \"725\": \"rheumatic_disease\",  # ICD-9\n",
    "    \"M05\": \"rheumatic_disease\",  # ICD-10\n",
    "    \"M06\": \"rheumatic_disease\",  # ICD-10\n",
    "    \"M32\": \"rheumatic_disease\",  # ICD-10\n",
    "\n",
    "    # Peptic Ulcer Disease\n",
    "    \"531\": \"peptic_ulcer_disease\",  # ICD-9\n",
    "    \"532\": \"peptic_ulcer_disease\",  # ICD-9\n",
    "    \"533\": \"peptic_ulcer_disease\",  # ICD-9\n",
    "    \"K25\": \"peptic_ulcer_disease\",  # ICD-10\n",
    "    \"K26\": \"peptic_ulcer_disease\",  # ICD-10\n",
    "    \"K27\": \"peptic_ulcer_disease\",  # ICD-10\n",
    "\n",
    "    # Mild Liver Disease\n",
    "    \"571.2\": \"mild_liver_disease\",  # ICD-9\n",
    "    \"571.5\": \"mild_liver_disease\",  # ICD-9\n",
    "    \"K73\": \"mild_liver_disease\",  # ICD-10\n",
    "    \"K74.0\": \"mild_liver_disease\",  # ICD-10\n",
    "    \"K74.3\": \"mild_liver_disease\",  # ICD-10\n",
    "\n",
    "    # Diabetes without Complications\n",
    "    \"250\": \"diabetes_without_complications\",  # ICD-9\n",
    "    \"E10\": \"diabetes_without_complications\",  # ICD-10\n",
    "    \"E11\": \"diabetes_without_complications\",  # ICD-10\n",
    "\n",
    "    # Diabetes with Complications\n",
    "    \"250.4\": \"diabetes_with_complications\",  # ICD-9\n",
    "    \"E10.5\": \"diabetes_with_complications\",  # ICD-10\n",
    "    \"E11.5\": \"diabetes_with_complications\",  # ICD-10\n",
    "\n",
    "    # Hemiplegia or Paraplegia\n",
    "    \"344\": \"hemiplegia_or_paraplegia\",  # ICD-9\n",
    "    \"G82\": \"hemiplegia_or_paraplegia\",  # ICD-10\n",
    "\n",
    "    # Renal Disease\n",
    "    \"582\": \"renal_disease\",  # ICD-9\n",
    "    \"583\": \"renal_disease\",  # ICD-9\n",
    "    \"584\": \"renal_disease\",  # ICD-9\n",
    "    \"N18\": \"renal_disease\",  # ICD-10\n",
    "    \"N19\": \"renal_disease\",  # ICD-10\n",
    "\n",
    "    # Cancer (Non-Metastatic)\n",
    "    \"140\": \"cancer\",  # ICD-9\n",
    "    \"199\": \"cancer\",  # ICD-9\n",
    "    \"C00\": \"cancer\",  # ICD-10\n",
    "    \"C76\": \"cancer\",  # ICD-10\n",
    "\n",
    "    # Moderate/Severe Liver Disease\n",
    "    \"572\": \"moderate_or_severe_liver_disease\",  # ICD-9\n",
    "    \"K72\": \"moderate_or_severe_liver_disease\",  # ICD-10\n",
    "\n",
    "    # Metastatic Cancer\n",
    "    \"196\": \"metastatic_cancer\",  # ICD-9\n",
    "    \"199\": \"metastatic_cancer\",  # ICD-9\n",
    "    \"C77\": \"metastatic_cancer\",  # ICD-10\n",
    "    \"C80\": \"metastatic_cancer\",  # ICD-10\n",
    "\n",
    "    # AIDS\n",
    "    \"042\": \"aids\",  # ICD-9\n",
    "    \"B20\": \"aids\",  # ICD-10\n",
    "}\n",
    "\n",
    "# CCI Weights\n",
    "cci_weights = {\n",
    "    \"myocardial_infarction\": 1,\n",
    "    \"congestive_heart_failure\": 1,\n",
    "    \"peripheral_vascular_disease\": 1,\n",
    "    \"cerebrovascular_disease\": 1,\n",
    "    \"dementia\": 1,\n",
    "    \"chronic_pulmonary_disease\": 1,\n",
    "    \"rheumatic_disease\": 1,\n",
    "    \"peptic_ulcer_disease\": 1,\n",
    "    \"mild_liver_disease\": 1,\n",
    "    \"diabetes_without_complications\": 1,\n",
    "    \"diabetes_with_complications\": 2,\n",
    "    \"hemiplegia_or_paraplegia\": 2,\n",
    "    \"renal_disease\": 2,\n",
    "    \"cancer\": 2,\n",
    "    \"moderate_or_severe_liver_disease\": 3,\n",
    "    \"metastatic_cancer\": 6,\n",
    "    \"aids\": 6,\n",
    "}"
   ]
  },
  {
   "cell_type": "code",
   "execution_count": 6,
   "metadata": {},
   "outputs": [
    {
     "name": "stdout",
     "output_type": "stream",
     "text": [
      "count    546028.000000\n",
      "mean          0.104535\n",
      "std           0.558763\n",
      "min           0.000000\n",
      "25%           0.000000\n",
      "50%           0.000000\n",
      "75%           0.000000\n",
      "max           8.000000\n",
      "Name: cci_score, dtype: float64\n",
      "cci_score\n",
      "0    510134\n",
      "1     29895\n",
      "6      3522\n",
      "2      2239\n",
      "7       200\n",
      "3        26\n",
      "8        12\n",
      "Name: count, dtype: int64\n"
     ]
    }
   ],
   "source": [
    "# Ensure ICD codes are strings\n",
    "diagnoses_cleaned[\"icd_code\"] = diagnoses_cleaned[\"icd_code\"].astype(str)\n",
    "\n",
    "# Map ICD codes to comorbidities\n",
    "diagnoses_cleaned[\"comorbidity\"] = diagnoses_cleaned[\"icd_code\"].map(icd_to_comorbidity)\n",
    "\n",
    "# Group comorbidities by admission\n",
    "admission_comorbidities = (\n",
    "    diagnoses_cleaned.groupby(\"hadm_id\")[\"comorbidity\"]\n",
    "    .apply(set)  # Use a set to avoid duplicate comorbidities\n",
    "    .reset_index()\n",
    ")\n",
    "\n",
    "admission_comorbidities.rename(columns={\"comorbidity\": \"comorbidities\"}, inplace=True)\n",
    "\n",
    "# Function to calculate CCI score\n",
    "def calculate_cci(comorbidities, weights):\n",
    "    return sum(weights.get(comorbidity, 0) for comorbidity in comorbidities)\n",
    "\n",
    "# Apply the function to compute CCI scores\n",
    "admission_comorbidities[\"cci_score\"] = admission_comorbidities[\"comorbidities\"].apply(\n",
    "    lambda comorbidities: calculate_cci(comorbidities, cci_weights)\n",
    ")\n",
    "\n",
    "# Merge CCI scores into admissions dataset\n",
    "admissions_cleaned = admissions_cleaned.merge(\n",
    "    admission_comorbidities[[\"hadm_id\", \"cci_score\"]], on=\"hadm_id\", how=\"left\"\n",
    ")\n",
    "\n",
    "# Fill missing values with 0\n",
    "admissions_cleaned[\"cci_score\"] = admissions_cleaned[\"cci_score\"].fillna(0).astype(\"int\")\n",
    "\n",
    "print(admissions_cleaned[\"cci_score\"].describe())\n",
    "print(admissions_cleaned[\"cci_score\"].value_counts())"
   ]
  },
  {
   "cell_type": "code",
   "execution_count": 30,
   "metadata": {},
   "outputs": [
    {
     "name": "stdout",
     "output_type": "stream",
     "text": [
      "cci_score\n",
      "0    0.934263\n",
      "1    0.054749\n",
      "6    0.006450\n",
      "2    0.004102\n",
      "7    0.000366\n",
      "3    0.000048\n",
      "8    0.000022\n",
      "Name: proportion, dtype: float64\n"
     ]
    }
   ],
   "source": [
    "cci_proportions = admissions_cleaned['cci_score'].value_counts(normalize=True)\n",
    "print(cci_proportions)"
   ]
  },
  {
   "cell_type": "markdown",
   "metadata": {},
   "source": [
    "### X2​: Length of Stay (LOS) (Numerical) — Longer stays can reflect severity of illness, which might increase readmission risk.\n"
   ]
  },
  {
   "cell_type": "code",
   "execution_count": 8,
   "metadata": {},
   "outputs": [
    {
     "name": "stdout",
     "output_type": "stream",
     "text": [
      "count    546028.000000\n",
      "mean          4.221353\n",
      "std           7.201081\n",
      "min           0.000000\n",
      "25%           1.000000\n",
      "50%           2.000000\n",
      "75%           5.000000\n",
      "max         515.000000\n",
      "Name: length_of_stay, dtype: float64\n",
      "length_of_stay\n",
      "0      120812\n",
      "1       93497\n",
      "2       75746\n",
      "3       56912\n",
      "4       45216\n",
      "        ...  \n",
      "321         1\n",
      "515         1\n",
      "295         1\n",
      "152         1\n",
      "184         1\n",
      "Name: count, Length: 195, dtype: int64\n"
     ]
    }
   ],
   "source": [
    "admissions_cleaned[\"length_of_stay\"] = (\n",
    "    pd.to_datetime(admissions_cleaned[\"dischtime\"]) - pd.to_datetime(admissions_cleaned[\"admittime\"])\n",
    ").dt.days.clip(lower=0)\n",
    "\n",
    "print(admissions_cleaned[\"length_of_stay\"].describe())\n",
    "print(admissions_cleaned[\"length_of_stay\"].value_counts())"
   ]
  },
  {
   "cell_type": "markdown",
   "metadata": {},
   "source": [
    "### X3​: Age (Categorical) — Older age is often associated with a higher risk of readmission.\n"
   ]
  },
  {
   "cell_type": "code",
   "execution_count": 9,
   "metadata": {},
   "outputs": [],
   "source": [
    "# Define age groups\n",
    "def categorize_age(age):\n",
    "    if age < 18:\n",
    "        return \"Youth\"\n",
    "    elif 18 <= age <= 35:\n",
    "        return \"Young\"\n",
    "    elif 36 <= age <= 60:\n",
    "        return \"Middle\"\n",
    "    else:\n",
    "        return \"Old\"\n",
    "\n",
    "# Apply categorization\n",
    "admissions_cleaned[\"age_group\"] = admissions_cleaned[\"age\"].apply(categorize_age)"
   ]
  },
  {
   "cell_type": "code",
   "execution_count": 31,
   "metadata": {},
   "outputs": [
    {
     "name": "stdout",
     "output_type": "stream",
     "text": [
      "count     546038\n",
      "unique         3\n",
      "top          Old\n",
      "freq      277130\n",
      "Name: age_group, dtype: object\n",
      "age_group\n",
      "Old       277130\n",
      "Middle    187306\n",
      "Young      81602\n",
      "Name: count, dtype: int64\n",
      "age_group\n",
      "Old       0.507529\n",
      "Middle    0.343027\n",
      "Young     0.149444\n",
      "Name: proportion, dtype: float64\n"
     ]
    }
   ],
   "source": [
    "print(admissions_cleaned[\"age_group\"].describe())\n",
    "print(admissions_cleaned[\"age_group\"].value_counts())\n",
    "print(admissions_cleaned[\"age_group\"].value_counts(normalize=True))"
   ]
  },
  {
   "cell_type": "markdown",
   "metadata": {},
   "source": [
    "### X4: Discharge Disposition (Categorical) — Whether the patient was discharged to home, a skilled nursing facility, or another setting can influence readmission likelihood.\n"
   ]
  },
  {
   "cell_type": "code",
   "execution_count": 11,
   "metadata": {},
   "outputs": [
    {
     "data": {
      "text/plain": [
       "discharge_location\n",
       "HOME                            194204\n",
       "HOME HEALTH CARE                 99305\n",
       "SKILLED NURSING FACILITY         52657\n",
       "REHAB                            13845\n",
       "DIED                             11721\n",
       "CHRONIC/LONG TERM ACUTE CARE      8125\n",
       "HOSPICE                           5397\n",
       "AGAINST ADVICE                    3393\n",
       "PSYCH FACILITY                    2965\n",
       "ACUTE HOSPITAL                    2334\n",
       "OTHER FACILITY                    1592\n",
       "ASSISTED LIVING                    622\n",
       "HEALTHCARE FACILITY                 50\n",
       "Name: count, dtype: int64"
      ]
     },
     "execution_count": 11,
     "metadata": {},
     "output_type": "execute_result"
    }
   ],
   "source": [
    "admissions_cleaned['discharge_location'].value_counts()"
   ]
  },
  {
   "cell_type": "code",
   "execution_count": 32,
   "metadata": {},
   "outputs": [
    {
     "name": "stdout",
     "output_type": "stream",
     "text": [
      "count     546038\n",
      "unique        14\n",
      "top         HOME\n",
      "freq      194205\n",
      "Name: discharge_disposition, dtype: object\n",
      "discharge_disposition\n",
      "HOME                            194205\n",
      "UNKNOWN                         149825\n",
      "HOME HEALTH CARE                 99305\n",
      "SKILLED NURSING FACILITY         52658\n",
      "REHAB                            13845\n",
      "DIED                             11722\n",
      "CHRONIC/LONG TERM ACUTE CARE      8125\n",
      "HOSPICE                           5397\n",
      "AGAINST ADVICE                    3393\n",
      "PSYCH FACILITY                    2965\n",
      "ACUTE HOSPITAL                    2334\n",
      "OTHER FACILITY                    1592\n",
      "ASSISTED LIVING                    622\n",
      "HEALTHCARE FACILITY                 50\n",
      "Name: count, dtype: int64\n",
      "discharge_disposition\n",
      "HOME                            0.355662\n",
      "UNKNOWN                         0.274386\n",
      "HOME HEALTH CARE                0.181865\n",
      "SKILLED NURSING FACILITY        0.096437\n",
      "REHAB                           0.025355\n",
      "DIED                            0.021467\n",
      "CHRONIC/LONG TERM ACUTE CARE    0.014880\n",
      "HOSPICE                         0.009884\n",
      "AGAINST ADVICE                  0.006214\n",
      "PSYCH FACILITY                  0.005430\n",
      "ACUTE HOSPITAL                  0.004274\n",
      "OTHER FACILITY                  0.002916\n",
      "ASSISTED LIVING                 0.001139\n",
      "HEALTHCARE FACILITY             0.000092\n",
      "Name: proportion, dtype: float64\n"
     ]
    }
   ],
   "source": [
    "# Copy 'discharge_location' to 'discharge_disposition'\n",
    "admissions_cleaned[\"discharge_disposition\"] = admissions_cleaned[\"discharge_location\"]\n",
    "\n",
    "# Add \"unknown\" as a new category\n",
    "admissions_cleaned[\"discharge_disposition\"] = admissions_cleaned[\"discharge_disposition\"].cat.add_categories([\"UNKNOWN\"])\n",
    "\n",
    "# Fill missing values with \"unknown\"\n",
    "admissions_cleaned[\"discharge_disposition\"] = admissions_cleaned[\"discharge_disposition\"].fillna(\"UNKNOWN\").astype(\"category\")\n",
    "\n",
    "# Check the distribution of discharge dispositions\n",
    "print(admissions_cleaned[\"discharge_disposition\"].describe())\n",
    "print(admissions_cleaned[\"discharge_disposition\"].value_counts())\n",
    "print(admissions_cleaned[\"discharge_disposition\"].value_counts(normalize=True))"
   ]
  },
  {
   "cell_type": "markdown",
   "metadata": {},
   "source": [
    "### X5​: Major Diagnostic Categories (MCD) (Categorical) — Grouped rimary diagnoses into clinically meaningful categories based on affected body systems or etiology, providing a high-level summary of the patient's condition. Certain diagnoses are more prone to readmissions.\n"
   ]
  },
  {
   "cell_type": "code",
   "execution_count": 13,
   "metadata": {},
   "outputs": [],
   "source": [
    "import re\n",
    "\n",
    "# Define a function to map ICD codes to MDC categories\n",
    "def icd_to_mdc(icd_code):\n",
    "    if pd.isnull(icd_code):\n",
    "        return 'Unknown'  # Handle missing values\n",
    "\n",
    "    # Convert the ICD code to a string and clean it\n",
    "    icd_code = str(icd_code).strip().upper()\n",
    "    icd_code = icd_code.replace('.', '')  # Remove decimal points for consistency\n",
    "\n",
    "    # Handle ICD-9 Codes (numeric)\n",
    "    if icd_code.isdigit():\n",
    "        icd_num = int(icd_code)  # Convert to integer for comparison\n",
    "        if 1 <= icd_num <= 139:\n",
    "            return 'Infectious and Parasitic Diseases'\n",
    "        elif 140 <= icd_num <= 239:\n",
    "            return 'Neoplasms'\n",
    "        elif 240 <= icd_num <= 279:\n",
    "            return 'Endocrine, Nutritional, and Metabolic Diseases'\n",
    "        elif 280 <= icd_num <= 289:\n",
    "            return 'Diseases of the Blood and Blood-forming Organs'\n",
    "        elif 290 <= icd_num <= 319:\n",
    "            return 'Mental Disorders'\n",
    "        elif 320 <= icd_num <= 389:\n",
    "            return 'Diseases of the Nervous System and Sense Organs'\n",
    "        elif 390 <= icd_num <= 459:\n",
    "            return 'Diseases of the Circulatory System'\n",
    "        elif 460 <= icd_num <= 519:\n",
    "            return 'Diseases of the Respiratory System'\n",
    "        elif 520 <= icd_num <= 579:\n",
    "            return 'Diseases of the Digestive System'\n",
    "        elif 580 <= icd_num <= 629:\n",
    "            return 'Diseases of the Genitourinary System'\n",
    "        elif 630 <= icd_num <= 679:\n",
    "            return 'Complications of Pregnancy, Childbirth, and the Puerperium'\n",
    "        elif 680 <= icd_num <= 709:\n",
    "            return 'Diseases of the Skin and Subcutaneous Tissue'\n",
    "        elif 710 <= icd_num <= 739:\n",
    "            return 'Diseases of the Musculoskeletal System and Connective Tissue'\n",
    "        elif 740 <= icd_num <= 759:\n",
    "            return 'Congenital Anomalies'\n",
    "        elif 760 <= icd_num <= 779:\n",
    "            return 'Certain Conditions Originating in the Perinatal Period'\n",
    "        elif 780 <= icd_num <= 799:\n",
    "            return 'Symptoms, Signs, and Ill-defined Conditions'\n",
    "        elif 800 <= icd_num <= 999:\n",
    "            return 'Injury and Poisoning'\n",
    "        else:\n",
    "            return 'Other'\n",
    "\n",
    "    # Handle ICD-10 Codes (alphanumeric)\n",
    "    elif re.match(r'^[A-Z]', icd_code):  # Starts with a letter\n",
    "        icd_char = icd_code[0]\n",
    "        if icd_char in ['A', 'B']:\n",
    "            return 'Certain Infectious and Parasitic Diseases'\n",
    "        elif icd_char == 'C' or (icd_char == 'D' and len(icd_code) > 1 and icd_code[1].isdigit() and int(icd_code[1]) <= 4):\n",
    "            return 'Neoplasms'\n",
    "        elif icd_char == 'D':\n",
    "            return 'Diseases of the Blood and Blood-forming Organs and Immune Disorders'\n",
    "        elif icd_char == 'E':\n",
    "            return 'Endocrine, Nutritional, and Metabolic Diseases'\n",
    "        elif icd_char == 'F':\n",
    "            return 'Mental and Behavioural Disorders'\n",
    "        elif icd_char == 'G':\n",
    "            return 'Diseases of the Nervous System'\n",
    "        elif icd_char == 'H':\n",
    "            if icd_code.startswith('H0') or icd_code.startswith('H1'):\n",
    "                return 'Diseases of the Eye and Adnexa'\n",
    "            else:\n",
    "                return 'Diseases of the Ear and Mastoid Process'\n",
    "        elif icd_char == 'I':\n",
    "            return 'Diseases of the Circulatory System'\n",
    "        elif icd_char == 'J':\n",
    "            return 'Diseases of the Respiratory System'\n",
    "        elif icd_char == 'K':\n",
    "            return 'Diseases of the Digestive System'\n",
    "        elif icd_char == 'L':\n",
    "            return 'Diseases of the Skin and Subcutaneous Tissue'\n",
    "        elif icd_char == 'M':\n",
    "            return 'Diseases of the Musculoskeletal System and Connective Tissue'\n",
    "        elif icd_char == 'N':\n",
    "            return 'Diseases of the Genitourinary System'\n",
    "        elif icd_char == 'O':\n",
    "            return 'Pregnancy, Childbirth, and the Puerperium'\n",
    "        elif icd_char == 'P':\n",
    "            return 'Certain Conditions Originating in the Perinatal Period'\n",
    "        elif icd_char == 'Q':\n",
    "            return 'Congenital Malformations and Chromosomal Abnormalities'\n",
    "        elif icd_char == 'R':\n",
    "            return 'Symptoms, Signs, and Abnormal Clinical and Laboratory Findings'\n",
    "        elif icd_char in ['S', 'T']:\n",
    "            return 'Injury, Poisoning, and Certain Other Consequences of External Causes'\n",
    "        elif icd_char in ['V', 'W', 'X', 'Y']:\n",
    "            return 'External Causes of Morbidity and Mortality'\n",
    "        elif icd_char == 'Z':\n",
    "            return 'Factors Influencing Health Status and Contact with Health Services'\n",
    "        else:\n",
    "            return 'Other'\n",
    "\n",
    "    # If the ICD code does not match any known pattern\n",
    "    return 'Other'\n",
    "\n",
    "# Extract primary diagnoses and map ICD codes to MDC categories\n",
    "primary_diagnoses = diagnoses_cleaned[diagnoses_cleaned[\"seq_num\"] == 1][[\"hadm_id\", \"icd_code\"]]\n",
    "primary_diagnoses[\"mdc_category\"] = primary_diagnoses[\"icd_code\"].apply(icd_to_mdc)\n",
    "\n",
    "# Merge MDC categories with admissions data\n",
    "admissions_cleaned = admissions_cleaned.merge(primary_diagnoses[[\"hadm_id\", \"mdc_category\"]], on=\"hadm_id\", how=\"left\")\n",
    "\n",
    "# Convert the mdc_category column to a categorical type\n",
    "admissions_cleaned[\"mdc_category\"] = admissions_cleaned[\"mdc_category\"].astype(\"category\")\n",
    "\n",
    "# Add \"Unknown\" as a category if not already present\n",
    "if 'Unknown' not in admissions_cleaned[\"mdc_category\"].cat.categories:\n",
    "    admissions_cleaned[\"mdc_category\"] = admissions_cleaned[\"mdc_category\"].cat.add_categories([\"Unknown\"])\n",
    "\n",
    "# Fill missing values for mdc_category with \"Unknown\"\n",
    "admissions_cleaned[\"mdc_category\"] = admissions_cleaned[\"mdc_category\"].fillna(\"Unknown\")"
   ]
  },
  {
   "cell_type": "code",
   "execution_count": 33,
   "metadata": {},
   "outputs": [
    {
     "name": "stdout",
     "output_type": "stream",
     "text": [
      "mdc_category\n",
      "Other                                                                   266190\n",
      "Diseases of the Circulatory System                                       45956\n",
      "Diseases of the Digestive System                                         31424\n",
      "Injury, Poisoning, and Certain Other Consequences of External Causes     29989\n",
      "Mental and Behavioural Disorders                                         19295\n",
      "Symptoms, Signs, and Abnormal Clinical and Laboratory Findings           18459\n",
      "Neoplasms                                                                17886\n",
      "Diseases of the Respiratory System                                       16944\n",
      "Diseases of the Musculoskeletal System and Connective Tissue             12789\n",
      "Certain Infectious and Parasitic Diseases                                12472\n",
      "Pregnancy, Childbirth, and the Puerperium                                11870\n",
      "Diseases of the Genitourinary System                                     10796\n",
      "Endocrine, Nutritional, and Metabolic Diseases                            9668\n",
      "Diseases of the Nervous System                                            7788\n",
      "External Causes of Morbidity and Mortality                                6607\n",
      "Factors Influencing Health Status and Contact with Health Services        6242\n",
      "Diseases of the Skin and Subcutaneous Tissue                              4400\n",
      "Diseases of the Nervous System and Sense Organs                           4163\n",
      "Mental Disorders                                                          3542\n",
      "Diseases of the Blood and Blood-forming Organs and Immune Disorders       3288\n",
      "Infectious and Parasitic Diseases                                         2130\n",
      "Injury and Poisoning                                                      1376\n",
      "Congenital Malformations and Chromosomal Abnormalities                     983\n",
      "Diseases of the Ear and Mastoid Process                                    897\n",
      "Unknown                                                                    531\n",
      "Complications of Pregnancy, Childbirth, and the Puerperium                 195\n",
      "Diseases of the Eye and Adnexa                                              78\n",
      "Symptoms, Signs, and Ill-defined Conditions                                 77\n",
      "Certain Conditions Originating in the Perinatal Period                       3\n",
      "Name: count, dtype: int64\n",
      "mdc_category\n",
      "Other                                                                   0.487494\n",
      "Diseases of the Circulatory System                                      0.084163\n",
      "Diseases of the Digestive System                                        0.057549\n",
      "Injury, Poisoning, and Certain Other Consequences of External Causes    0.054921\n",
      "Mental and Behavioural Disorders                                        0.035336\n",
      "Symptoms, Signs, and Abnormal Clinical and Laboratory Findings          0.033805\n",
      "Neoplasms                                                               0.032756\n",
      "Diseases of the Respiratory System                                      0.031031\n",
      "Diseases of the Musculoskeletal System and Connective Tissue            0.023421\n",
      "Certain Infectious and Parasitic Diseases                               0.022841\n",
      "Pregnancy, Childbirth, and the Puerperium                               0.021738\n",
      "Diseases of the Genitourinary System                                    0.019772\n",
      "Endocrine, Nutritional, and Metabolic Diseases                          0.017706\n",
      "Diseases of the Nervous System                                          0.014263\n",
      "External Causes of Morbidity and Mortality                              0.012100\n",
      "Factors Influencing Health Status and Contact with Health Services      0.011431\n",
      "Diseases of the Skin and Subcutaneous Tissue                            0.008058\n",
      "Diseases of the Nervous System and Sense Organs                         0.007624\n",
      "Mental Disorders                                                        0.006487\n",
      "Diseases of the Blood and Blood-forming Organs and Immune Disorders     0.006022\n",
      "Infectious and Parasitic Diseases                                       0.003901\n",
      "Injury and Poisoning                                                    0.002520\n",
      "Congenital Malformations and Chromosomal Abnormalities                  0.001800\n",
      "Diseases of the Ear and Mastoid Process                                 0.001643\n",
      "Unknown                                                                 0.000972\n",
      "Complications of Pregnancy, Childbirth, and the Puerperium              0.000357\n",
      "Diseases of the Eye and Adnexa                                          0.000143\n",
      "Symptoms, Signs, and Ill-defined Conditions                             0.000141\n",
      "Certain Conditions Originating in the Perinatal Period                  0.000005\n",
      "Name: proportion, dtype: float64\n",
      "count     546038\n",
      "unique        29\n",
      "top        Other\n",
      "freq      266190\n",
      "Name: mdc_category, dtype: object\n"
     ]
    }
   ],
   "source": [
    "print(admissions_cleaned[\"mdc_category\"].value_counts())\n",
    "print(admissions_cleaned[\"mdc_category\"].value_counts(normalize=True))\n",
    "print(admissions_cleaned[\"mdc_category\"].describe())"
   ]
  },
  {
   "cell_type": "markdown",
   "metadata": {},
   "source": [
    "### X6: Use of Mechanical Ventilation (Binary/Categorical) — Patients who required ventilation may have a higher risk of complications post-discharge.\n"
   ]
  },
  {
   "cell_type": "code",
   "execution_count": 37,
   "metadata": {},
   "outputs": [
    {
     "name": "stdout",
     "output_type": "stream",
     "text": [
      "ventilation_used\n",
      "0    535561\n",
      "1     10477\n",
      "Name: count, dtype: int64\n",
      "ventilation_used\n",
      "0    0.980813\n",
      "1    0.019187\n",
      "Name: proportion, dtype: float64\n"
     ]
    }
   ],
   "source": [
    "# Define mechanical ventilation procedure codes\n",
    "ventilation_codes = [\n",
    "    \"96.70\", \"96.71\", \"96.72\",  # ICD-9 codes\n",
    "    \"5A1935Z\", \"5A1945Z\", \"5A1955Z\"  # ICD-10 codes\n",
    "]\n",
    "\n",
    "# Flag admissions with mechanical ventilation\n",
    "procedures_cleaned[\"mechanical_ventilation\"] = procedures_cleaned[\"icd_code\"].isin(ventilation_codes).astype(int)\n",
    "\n",
    "# Group by hadm_id to determine if ventilation occurred for each admission\n",
    "ventilation_status = procedures_cleaned.groupby(\"hadm_id\")[\"mechanical_ventilation\"].max().reset_index()\n",
    "\n",
    "# Rename column for clarity\n",
    "ventilation_status.rename(columns={\"mechanical_ventilation\": \"ventilation_used\"}, inplace=True)\n",
    "\n",
    "# Merge ventilation status with the admissions dataset\n",
    "admissions_cleaned = admissions_cleaned.merge(ventilation_status, on=\"hadm_id\", how=\"left\")\n",
    "\n",
    "# Fill missing values with 0 (no ventilation)\n",
    "admissions_cleaned[\"ventilation_used\"] = admissions_cleaned[\"ventilation_used\"].fillna(0).astype(\"int\")\n",
    "\n",
    "# Verify the distribution of ventilation usage\n",
    "print(admissions_cleaned[\"ventilation_used\"].value_counts())\n",
    "print(admissions_cleaned[\"ventilation_used\"].value_counts(normalize=True))\n"
   ]
  },
  {
   "cell_type": "markdown",
   "metadata": {},
   "source": [
    "### X7​: Medication Count at Discharge (Numerical) — A higher number of medications may indicate complex health issues.\n"
   ]
  },
  {
   "cell_type": "code",
   "execution_count": 16,
   "metadata": {},
   "outputs": [
    {
     "name": "stdout",
     "output_type": "stream",
     "text": [
      "count    546038.000000\n",
      "mean         20.105134\n",
      "std          15.878812\n",
      "min           0.000000\n",
      "25%          10.000000\n",
      "50%          18.000000\n",
      "75%          27.000000\n",
      "max         195.000000\n",
      "Name: medication_count, dtype: float64\n",
      "medication_count\n",
      "0      82731\n",
      "16     19485\n",
      "15     19397\n",
      "14     19292\n",
      "17     19149\n",
      "       ...  \n",
      "181        1\n",
      "192        1\n",
      "175        1\n",
      "149        1\n",
      "157        1\n",
      "Name: count, Length: 168, dtype: int64\n"
     ]
    }
   ],
   "source": [
    "# Filter prescriptions that overlap with the discharge time\n",
    "prescriptions_cleaned[\"active_at_discharge\"] = (\n",
    "    (prescriptions_cleaned[\"stoptime\"].isnull()) |  # Ongoing medication\n",
    "    (prescriptions_cleaned[\"stoptime\"] >= prescriptions_cleaned[\"starttime\"])\n",
    ")\n",
    "\n",
    "# Ensure only relevant prescriptions are retained\n",
    "active_prescriptions = prescriptions_cleaned[prescriptions_cleaned[\"active_at_discharge\"]]\n",
    "\n",
    "# Count unique medications (drug names) per hospital admission\n",
    "medication_counts = (\n",
    "    active_prescriptions.groupby(\"hadm_id\")[\"drug\"]\n",
    "    .nunique()  # Count unique drugs\n",
    "    .reset_index()\n",
    ")\n",
    "\n",
    "# Rename column for clarity\n",
    "medication_counts.rename(columns={\"drug\": \"medication_count\"}, inplace=True)\n",
    "\n",
    "# Merge medication counts with admissions data\n",
    "admissions_cleaned = admissions_cleaned.merge(medication_counts, on=\"hadm_id\", how=\"left\")\n",
    "\n",
    "# Fill missing values with 0 (no medications)\n",
    "admissions_cleaned[\"medication_count\"] = admissions_cleaned[\"medication_count\"].fillna(0).astype(\"int\")  # Default for counts\n",
    "\n",
    "# Verify the distribution of medication counts\n",
    "print(admissions_cleaned[\"medication_count\"].describe())\n",
    "print(admissions_cleaned[\"medication_count\"].value_counts())"
   ]
  },
  {
   "cell_type": "markdown",
   "metadata": {},
   "source": [
    "### X8​: Serum Creatinine (Numerical) — Reflects kidney function; abnormalities can suggest chronic conditions that influence readmission risk.\n"
   ]
  },
  {
   "cell_type": "code",
   "execution_count": 17,
   "metadata": {},
   "outputs": [
    {
     "name": "stdout",
     "output_type": "stream",
     "text": [
      "count    415674.000000\n",
      "mean          1.209527\n",
      "std           1.311566\n",
      "min           0.000000\n",
      "25%           0.700000\n",
      "50%           0.900000\n",
      "75%           1.200000\n",
      "max          29.500000\n",
      "Name: serum_creatinine, dtype: float64\n"
     ]
    }
   ],
   "source": [
    "# Define itemids for serum creatinine (based on `d_labitems.csv`)\n",
    "serum_creatinine_itemids = [50912]  # Example itemid for serum creatinine\n",
    "\n",
    "# Filter labevents for serum creatinine tests\n",
    "serum_creatinine = labevents_cleaned[\n",
    "    labevents_cleaned[\"itemid\"].isin(serum_creatinine_itemids)\n",
    "]\n",
    "\n",
    "# Merge serum creatinine with discharge time to filter valid values\n",
    "serum_creatinine = serum_creatinine.merge(\n",
    "    admissions_cleaned[[\"hadm_id\", \"dischtime\"]],\n",
    "    on=\"hadm_id\",\n",
    "    how=\"inner\"\n",
    ")\n",
    "\n",
    "# Keep only lab values recorded before discharge\n",
    "serum_creatinine = serum_creatinine[\n",
    "    serum_creatinine[\"charttime\"] <= serum_creatinine[\"dischtime\"]\n",
    "]\n",
    "\n",
    "# Sort by hadm_id and charttime, keeping the most recent value\n",
    "serum_creatinine = serum_creatinine.sort_values(by=[\"hadm_id\", \"charttime\"], ascending=[True, False])\n",
    "most_recent_creatinine = serum_creatinine.groupby(\"hadm_id\").first().reset_index()\n",
    "\n",
    "# Select relevant columns\n",
    "most_recent_creatinine = most_recent_creatinine[[\"hadm_id\", \"valuenum\"]]\n",
    "most_recent_creatinine.rename(columns={\"valuenum\": \"serum_creatinine\"}, inplace=True)\n",
    "\n",
    "# Merge serum creatinine values into admissions data\n",
    "admissions_cleaned = admissions_cleaned.merge(\n",
    "    most_recent_creatinine, on=\"hadm_id\", how=\"left\"\n",
    ")\n",
    "\n",
    "# Verify the distribution of serum creatinine values\n",
    "print(admissions_cleaned[\"serum_creatinine\"].describe())"
   ]
  },
  {
   "cell_type": "markdown",
   "metadata": {},
   "source": [
    "### X9​: Prior Admissions within 1 Year (Categorical) —  Patients with frequent hospitalizations may have chronic conditions or complications that increase the likelihood of readmission."
   ]
  },
  {
   "cell_type": "code",
   "execution_count": 18,
   "metadata": {},
   "outputs": [
    {
     "name": "stdout",
     "output_type": "stream",
     "text": [
      "count                                 546038\n",
      "unique                                     4\n",
      "top       No prior admissions (0 admissions)\n",
      "freq                                  275756\n",
      "Name: prior_admissions_1yr, dtype: object\n",
      "prior_admissions_1yr\n",
      "No prior admissions (0 admissions)       275756\n",
      "Low frequency (1-2 admissions)           137810\n",
      "High frequency (5 or more admissions)     84453\n",
      "Moderate frequency (3-4 admissions)       48019\n",
      "Name: count, dtype: int64\n"
     ]
    }
   ],
   "source": [
    "# Sort by patient ID and admission time\n",
    "admissions_cleaned = admissions_cleaned.sort_values(by=[\"subject_id\", \"admittime\"]).reset_index(drop=True)\n",
    "\n",
    "# Calculate the time difference from the previous admission\n",
    "admissions_cleaned[\"time_since_last_admission\"] = (\n",
    "    admissions_cleaned.groupby(\"subject_id\")[\"admittime\"].diff().dt.days\n",
    ")\n",
    "\n",
    "# Count prior admissions within 1 year\n",
    "admissions_cleaned[\"prior_admissions\"] = (\n",
    "    admissions_cleaned.groupby(\"subject_id\")[\"time_since_last_admission\"]\n",
    "    .apply(lambda x: x.between(1, 365).cumsum())\n",
    "    .reset_index(drop=True)  # Aligns the grouped result with the original DataFrame\n",
    ")\n",
    "\n",
    "# Fill missing values with 0 (no prior admissions)\n",
    "admissions_cleaned[\"prior_admissions\"] = admissions_cleaned[\"prior_admissions\"].fillna(0).astype(\"int\")  # Default for counts\n",
    "\n",
    "# Define admission frequency groups\n",
    "def categorize_admission_freq(age):\n",
    "    if age == 0:\n",
    "        return \"No prior admissions (0 admissions)\" # No prior admissions\n",
    "    elif age <= 2:\n",
    "        return \"Low frequency (1-2 admissions)\" # 1-2 admissions\n",
    "    elif age <= 4:\n",
    "        return \"Moderate frequency (3-4 admissions)\" # 3-4 admissions\n",
    "    else:\n",
    "        return \"High frequency (5 or more admissions)\" # 5 or more admissions\n",
    "\n",
    "# Apply categorization\n",
    "admissions_cleaned[\"prior_admissions_1yr\"] = admissions_cleaned[\"prior_admissions\"].apply(categorize_admission_freq)\n",
    "\n",
    "# Verify the distribution of prior admissions within 1 year\n",
    "print(admissions_cleaned[\"prior_admissions_1yr\"].describe())\n",
    "print(admissions_cleaned[\"prior_admissions_1yr\"].value_counts())\n"
   ]
  },
  {
   "cell_type": "code",
   "execution_count": 39,
   "metadata": {},
   "outputs": [
    {
     "name": "stdout",
     "output_type": "stream",
     "text": [
      "prior_admissions_1yr\n",
      "No prior admissions (0 admissions)       0.505012\n",
      "Low frequency (1-2 admissions)           0.252382\n",
      "High frequency (5 or more admissions)    0.154665\n",
      "Moderate frequency (3-4 admissions)      0.087941\n",
      "Name: proportion, dtype: float64\n"
     ]
    }
   ],
   "source": [
    "print(admissions_cleaned[\"prior_admissions_1yr\"].value_counts(normalize=True))"
   ]
  },
  {
   "cell_type": "markdown",
   "metadata": {},
   "source": [
    "### X10: Number of Lab Tests Ordered (Numerical) - A higher number of lab tests may indicate greater severity of illness or a more complicated hospital course."
   ]
  },
  {
   "cell_type": "code",
   "execution_count": 19,
   "metadata": {},
   "outputs": [
    {
     "name": "stdout",
     "output_type": "stream",
     "text": [
      "count    546038.000000\n",
      "mean        154.946095\n",
      "std         336.576722\n",
      "min           0.000000\n",
      "25%          20.000000\n",
      "50%          66.000000\n",
      "75%         165.000000\n",
      "max       21655.000000\n",
      "Name: num_lab_tests, dtype: float64\n"
     ]
    }
   ],
   "source": [
    "# Count the number of lab tests per admission\n",
    "lab_tests_count = labevents_cleaned.groupby(\"hadm_id\")[\"itemid\"].count().reset_index()\n",
    "lab_tests_count.rename(columns={\"itemid\": \"num_lab_tests\"}, inplace=True)\n",
    "\n",
    "# Merge lab tests count into admissions data\n",
    "admissions_cleaned = admissions_cleaned.merge(lab_tests_count, on=\"hadm_id\", how=\"left\")\n",
    "\n",
    "# Fill missing values with 0 (no lab tests)\n",
    "admissions_cleaned[\"num_lab_tests\"] = admissions_cleaned[\"num_lab_tests\"].fillna(0).astype(\"int\")  # Default for counts\n",
    "\n",
    "# Verify the distribution of lab tests\n",
    "print(admissions_cleaned[\"num_lab_tests\"].describe())\n",
    "\n"
   ]
  },
  {
   "cell_type": "markdown",
   "metadata": {},
   "source": [
    "### X11: Diagnosis Count (Numerical) - A higher number of diagnoses during an admission might indicate comorbidities or complications, which could increase readmission risk."
   ]
  },
  {
   "cell_type": "code",
   "execution_count": 20,
   "metadata": {},
   "outputs": [
    {
     "name": "stdout",
     "output_type": "stream",
     "text": [
      "count    546038.000000\n",
      "mean         11.656216\n",
      "std           7.631517\n",
      "min           0.000000\n",
      "25%           6.000000\n",
      "50%          10.000000\n",
      "75%          16.000000\n",
      "max          57.000000\n",
      "Name: num_diagnoses, dtype: float64\n"
     ]
    }
   ],
   "source": [
    "# Count the number of diagnoses per admission\n",
    "diagnosis_count = diagnoses_cleaned.groupby(\"hadm_id\")[\"icd_code\"].count().reset_index()\n",
    "diagnosis_count.rename(columns={\"icd_code\": \"num_diagnoses\"}, inplace=True)\n",
    "\n",
    "# Merge diagnosis count into admissions data\n",
    "admissions_cleaned = admissions_cleaned.merge(diagnosis_count, on=\"hadm_id\", how=\"left\")\n",
    "\n",
    "# Fill missing values with 0 (no diagnoses)\n",
    "admissions_cleaned[\"num_diagnoses\"] = admissions_cleaned[\"num_diagnoses\"].fillna(0).astype(\"int\")  # Default for counts\n",
    "\n",
    "# Verify the distribution of diagnoses\n",
    "print(admissions_cleaned[\"num_diagnoses\"].describe())\n"
   ]
  },
  {
   "cell_type": "markdown",
   "metadata": {},
   "source": [
    "### Y1: 30-day Readmission (Binary/Categorical) - The health outcome, the patients that are readmitted to the hospital within 30-days."
   ]
  },
  {
   "cell_type": "code",
   "execution_count": 21,
   "metadata": {},
   "outputs": [
    {
     "name": "stdout",
     "output_type": "stream",
     "text": [
      "   subject_id   hadm_id           admittime           dischtime  \\\n",
      "0    10000032  22595853 2180-05-06 22:23:00 2180-05-07 17:15:00   \n",
      "1    10000032  22841357 2180-06-26 18:27:00 2180-06-27 18:49:00   \n",
      "2    10000032  29079034 2180-07-23 12:35:00 2180-07-25 17:55:00   \n",
      "3    10000032  25742920 2180-08-05 23:44:00 2180-08-07 17:50:00   \n",
      "4    10000068  25022803 2160-03-03 23:16:00 2160-03-04 06:26:00   \n",
      "5    10000084  23052089 2160-11-21 01:56:00 2160-11-25 14:52:00   \n",
      "6    10000084  29888819 2160-12-28 05:11:00 2160-12-28 16:07:00   \n",
      "7    10000108  27250926 2163-09-27 23:17:00 2163-09-28 09:04:00   \n",
      "8    10000117  22927623 2181-11-15 02:05:00 2181-11-15 14:52:00   \n",
      "9    10000117  27988844 2183-09-18 18:10:00 2183-09-21 16:30:00   \n",
      "\n",
      "   time_to_next_admission_days  readmitted_30_days  \n",
      "0                         50.0                   0  \n",
      "1                         25.0                   1  \n",
      "2                         11.0                   1  \n",
      "3                          NaN                   0  \n",
      "4                          NaN                   0  \n",
      "5                         32.0                   0  \n",
      "6                          NaN                   0  \n",
      "7                          NaN                   0  \n",
      "8                        672.0                   0  \n",
      "9                          NaN                   0  \n"
     ]
    }
   ],
   "source": [
    "# Sort by patient ID and admission time\n",
    "admissions_cleaned = admissions_cleaned.sort_values(by=[\"subject_id\", \"admittime\"]).reset_index(drop=True)\n",
    "\n",
    "# Calculate time difference to the next admission for the same patient\n",
    "admissions_cleaned[\"time_to_next_admission\"] = admissions_cleaned.groupby(\"subject_id\")[\"admittime\"].shift(-1) - admissions_cleaned[\"dischtime\"]\n",
    "\n",
    "# Convert time difference to days\n",
    "admissions_cleaned[\"time_to_next_admission_days\"] = admissions_cleaned[\"time_to_next_admission\"].dt.days\n",
    "\n",
    "# Determine 30-day readmission (1 if time_to_next_admission_days <= 30, else 0)\n",
    "admissions_cleaned[\"readmitted_30_days\"] = (admissions_cleaned[\"time_to_next_admission_days\"] <= 30).astype(\"int\")\n",
    "\n",
    "# Fill NaN values for the last admission of each patient with 0 (no readmission)\n",
    "admissions_cleaned[\"readmitted_30_days\"] = admissions_cleaned[\"readmitted_30_days\"].fillna(0)\n",
    "\n",
    "# Verify the result\n",
    "print(admissions_cleaned[[\"subject_id\", \"hadm_id\", \"admittime\", \"dischtime\", \"time_to_next_admission_days\", \"readmitted_30_days\"]].head(10))"
   ]
  },
  {
   "cell_type": "code",
   "execution_count": 22,
   "metadata": {},
   "outputs": [
    {
     "data": {
      "text/plain": [
       "readmitted_30_days\n",
       "0    434993\n",
       "1    111045\n",
       "Name: count, dtype: int64"
      ]
     },
     "execution_count": 22,
     "metadata": {},
     "output_type": "execute_result"
    }
   ],
   "source": [
    "admissions_cleaned['readmitted_30_days'].value_counts()"
   ]
  },
  {
   "cell_type": "markdown",
   "metadata": {},
   "source": [
    "## Combine predictors into a single dataset for modeling"
   ]
  },
  {
   "cell_type": "code",
   "execution_count": 23,
   "metadata": {},
   "outputs": [
    {
     "data": {
      "text/plain": [
       "Index(['subject_id', 'hadm_id', 'admittime', 'dischtime', 'deathtime',\n",
       "       'admission_type', 'admit_provider_id', 'admission_location',\n",
       "       'discharge_location', 'insurance', 'language', 'marital_status', 'race',\n",
       "       'edregtime', 'edouttime', 'hospital_expire_flag', 'gender',\n",
       "       'anchor_age', 'anchor_year', 'anchor_year_group', 'dod',\n",
       "       'admittime_year', 'age', 'cci_score', 'length_of_stay', 'age_group',\n",
       "       'discharge_disposition', 'mdc_category', 'ventilation_used',\n",
       "       'medication_count', 'serum_creatinine', 'time_since_last_admission',\n",
       "       'prior_admissions', 'prior_admissions_1yr', 'num_lab_tests',\n",
       "       'num_diagnoses', 'time_to_next_admission',\n",
       "       'time_to_next_admission_days', 'readmitted_30_days'],\n",
       "      dtype='object')"
      ]
     },
     "execution_count": 23,
     "metadata": {},
     "output_type": "execute_result"
    }
   ],
   "source": [
    "admissions_cleaned.columns"
   ]
  },
  {
   "cell_type": "code",
   "execution_count": 27,
   "metadata": {},
   "outputs": [
    {
     "name": "stdout",
     "output_type": "stream",
     "text": [
      "         subject_id       hadm_id      cci_score  length_of_stay  \\\n",
      "count  5.460380e+05  5.460380e+05  546038.000000   546038.000000   \n",
      "mean   1.501117e+07  2.500100e+07       0.104537        4.221307   \n",
      "std    2.877700e+06  2.888712e+06       0.558764        7.201032   \n",
      "min    1.000003e+07  2.000002e+07       0.000000        0.000000   \n",
      "25%    1.252380e+07  2.249663e+07       0.000000        1.000000   \n",
      "50%    1.501954e+07  2.500382e+07       0.000000        2.000000   \n",
      "75%    1.750401e+07  2.750282e+07       0.000000        5.000000   \n",
      "max    1.999999e+07  2.999994e+07       8.000000      515.000000   \n",
      "\n",
      "       ventilation_used  medication_count  serum_creatinine  num_lab_tests  \\\n",
      "count     546038.000000     546038.000000     415674.000000  546038.000000   \n",
      "mean           0.019187         20.105134          1.209527     154.946095   \n",
      "std            0.137183         15.878812          1.311566     336.576722   \n",
      "min            0.000000          0.000000          0.000000       0.000000   \n",
      "25%            0.000000         10.000000          0.700000      20.000000   \n",
      "50%            0.000000         18.000000          0.900000      66.000000   \n",
      "75%            0.000000         27.000000          1.200000     165.000000   \n",
      "max            1.000000        195.000000         29.500000   21655.000000   \n",
      "\n",
      "       num_diagnoses  readmitted_30_days  \n",
      "count  546038.000000       546038.000000  \n",
      "mean       11.656216            0.203365  \n",
      "std         7.631517            0.402502  \n",
      "min         0.000000            0.000000  \n",
      "25%         6.000000            0.000000  \n",
      "50%        10.000000            0.000000  \n",
      "75%        16.000000            0.000000  \n",
      "max        57.000000            1.000000  \n"
     ]
    }
   ],
   "source": [
    "# Final dataset for modeling\n",
    "predictors = admissions_cleaned[[\n",
    "    \"subject_id\", \"hadm_id\", \"cci_score\", \"length_of_stay\", \"age_group\", \"discharge_disposition\",\n",
    "    \"mdc_category\", \"ventilation_used\", \"medication_count\",\n",
    "    \"serum_creatinine\", \"prior_admissions_1yr\", \"num_lab_tests\", \"num_diagnoses\", \"readmitted_30_days\"\n",
    "]]\n",
    "\n",
    "print(predictors.describe())"
   ]
  },
  {
   "cell_type": "code",
   "execution_count": 28,
   "metadata": {},
   "outputs": [],
   "source": [
    "# Ensure correct data types for predictors\n",
    "predictors = predictors.astype({\n",
    "    \"subject_id\": \"int\",\n",
    "    \"hadm_id\": \"int\",\n",
    "    \"cci_score\": \"category\",\n",
    "    \"length_of_stay\": \"int\",\n",
    "    \"age_group\": \"category\",\n",
    "    \"discharge_disposition\": \"category\",\n",
    "    \"mdc_category\": \"category\",\n",
    "    \"ventilation_used\": \"category\",\n",
    "    \"medication_count\": \"int\",\n",
    "    \"serum_creatinine\": \"float\",\n",
    "    \"prior_admissions_1yr\": \"category\",\n",
    "    \"num_lab_tests\": \"int\",\n",
    "    \"num_diagnoses\": \"int\",\n",
    "    \"readmitted_30_days\": \"int\"\n",
    "})\n"
   ]
  },
  {
   "cell_type": "code",
   "execution_count": 29,
   "metadata": {},
   "outputs": [
    {
     "name": "stdout",
     "output_type": "stream",
     "text": [
      "Predictors dataset saved.\n"
     ]
    }
   ],
   "source": [
    "# Save the dataset for modeling\n",
    "predictors.to_csv(f\"{data_dir}/predictors_dataset.csv\", index=False)\n",
    "print(\"Predictors dataset saved.\")"
   ]
  }
 ],
 "metadata": {
  "kernelspec": {
   "display_name": "30dayenv",
   "language": "python",
   "name": "python3"
  },
  "language_info": {
   "codemirror_mode": {
    "name": "ipython",
    "version": 3
   },
   "file_extension": ".py",
   "mimetype": "text/x-python",
   "name": "python",
   "nbconvert_exporter": "python",
   "pygments_lexer": "ipython3",
   "version": "3.13.0"
  }
 },
 "nbformat": 4,
 "nbformat_minor": 2
}
